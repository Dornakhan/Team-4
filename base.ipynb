{
 "cells": [
  {
   "cell_type": "markdown",
   "id": "68cbc919",
   "metadata": {},
   "source": [
    "# Team 3 Big Data Project\n",
    "\n",
    "## Project Overview\n"
   ]
  },
  {
   "cell_type": "code",
   "execution_count": null,
   "id": "0ae3a5a7",
   "metadata": {},
   "outputs": [],
   "source": []
  }
 ],
 "metadata": {
  "kernelspec": {
   "display_name": "Python 3",
   "language": "python",
   "name": "python3"
  },
  "language_info": {
   "name": "python",
   "version": "3.12.0"
  }
 },
 "nbformat": 4,
 "nbformat_minor": 5
}

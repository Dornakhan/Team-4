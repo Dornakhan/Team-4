{
 "cells": [
  {
   "cell_type": "markdown",
   "id": "68cbc919",
   "metadata": {},
   "source": [
    "# Team 3 Big Data Project\n",
    "\n",
    "## Project Overview\n"
   ]
  },
  {
   "cell_type": "code",
   "execution_count": 1,
   "id": "0ae3a5a7",
   "metadata": {},
   "outputs": [],
   "source": [
    "import os\n",
    "import pandas as pd"
   ]
  },
  {
   "cell_type": "code",
   "execution_count": null,
   "id": "52813ecc",
   "metadata": {},
   "outputs": [],
   "source": [
    "data_folder = \"data/\"\n",
    "\n",
    "csv_files = []\n",
    "for folder in os.listdir(data_folder):\n",
    "    for file in os.listdir(os.path.join(data_folder, folder)):\n",
    "        if file.endswith(\".csv\"):\n",
    "            csv_files.append(os.path.join(data_folder, folder, file))\n",
    "\n",
    "if csv_files:\n",
    "    try:\n",
    "        # Read all CSV files into dataframes and combine them\n",
    "        dataframes = [pd.read_csv(file, header=0) for file in csv_files]\n",
    "        combined_df = pd.concat(dataframes, ignore_index=True)\n",
    "\n",
    "        # Save the combined dataframe to a single CSV file\n",
    "        output_path = \"data/combined_pandas.csv\"\n",
    "        combined_df.to_csv(output_path, index=False)\n",
    "\n",
    "        print(f\"Combined CSV saved to {output_path}\")\n",
    "    except Exception as e:\n",
    "        print(f\"An error occurred: {e}\")"
   ]
  }
 ],
 "metadata": {
  "kernelspec": {
   "display_name": "base",
   "language": "python",
   "name": "python3"
  },
  "language_info": {
   "codemirror_mode": {
    "name": "ipython",
    "version": 3
   },
   "file_extension": ".py",
   "mimetype": "text/x-python",
   "name": "python",
   "nbconvert_exporter": "python",
   "pygments_lexer": "ipython3",
   "version": "3.12.7"
  }
 },
 "nbformat": 4,
 "nbformat_minor": 5
}
